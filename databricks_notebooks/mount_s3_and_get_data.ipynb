{
 "cells": [
  {
   "cell_type": "code",
   "metadata": {},
   "source": [
    "# import pyspark functions\n",
    "from pyspark.sql.functions import *\n",
    "# import URL processing\n",
    "import urllib\n",
    "\n",
    "# Read the CSV file to spark dataframe, passing in options for the header row and separator\n",
    "aws_keys_df = spark.read.format(\"csv\")\\\n",
    ".option(\"header\", \"true\")\\\n",
    ".option(\"sep\", \",\")\\\n",
    ".load(\"/FileStore/tables/authentication_credentials.csv\")\n",
    "\n",
    "# Get the AWS access key and secret key from the spark dataframe\n",
    "ACCESS_KEY = aws_keys_df.where(col('User name')=='1273a52843e9').select('Access key ID').collect()[0]['Access key ID']\n",
    "SECRET_KEY = aws_keys_df.where(col('User name')=='1273a52843e9').select('Secret access key').collect()[0]['Secret access key']\n",
    "# Encode the secret key\n",
    "ENCODED_SECRET_KEY = urllib.parse.quote(string=SECRET_KEY, safe=\"\")\n",
    "\n",
    "# AWS S3 bucket name\n",
    "AWS_S3_BUCKET = \"user-1273a52843e9-bucket\"\n",
    "# Mount name for the bucket\n",
    "MOUNT_NAME = \"/mnt/user-1273a52843e9-bucket\"\n",
    "# Source url\n",
    "SOURCE_URL = \"s3n://{0}:{1}@{2}\".format(ACCESS_KEY, ENCODED_SECRET_KEY, AWS_S3_BUCKET)\n",
    "# Mount the drive\n",
    "dbutils.fs.mount(SOURCE_URL, MOUNT_NAME)\n",
    "\n",
    "# list the topics stored on the mounted S3 bucket\n",
    "display(dbutils.fs.ls(\"/mnt/user-1273a52843e9-bucket/topics\"))\n",
    "\n",
    "# list of topic suffixes\n",
    "topics = [\".pin\", \".geo\", \".user\"]\n",
    "\n",
    "def read_topics_into_dataframe(topic):\n",
    "    # create path to topic files\n",
    "    file_path = f\"/mnt/user-1273a52843e9-bucket/topics/1273a52843e9{topic}/partition=0/*.json\"\n",
    "    # specify file type\n",
    "    file_type = \"json\"\n",
    "    # Ask Spark to infer the schema\n",
    "    infer_schema = \"true\"\n",
    "    # load JSONs from mounted S3 bucket to Spark dataframe\n",
    "    df = spark.read.format(file_type) \\\n",
    "        .option(\"inferSchema\", infer_schema) \\\n",
    "        .load(file_path)\n",
    "    return df\n",
    "\n",
    "for item in topics:\n",
    "    # create statement strings for naming and displaying dataframes\n",
    "    make_df_statement = f\"df_{item[1:]} = read_topics_into_dataframe('{item}')\"\n",
    "    display_df_statement = f\"display(df_{item[1:]})\"\n",
    "    # execute statements\n",
    "    exec(make_df_statement)\n",
    "    exec(display_df_statement)\n",
    "\n",
    "# unmount the bucket from the filestore\n",
    "dbutils.fs.unmount(\"/mnt/user-1273a52843e9-bucket\")"
   ]
  }
 ],
 "metadata": {
  "kernelspec": {
   "display_name": "Python 3",
   "language": "python",
   "name": "python3"
  },
  "language_info": {
   "name": "python",
   "version": "3.7.11"
  }
 },
 "nbformat": 4,
 "nbformat_minor": 2
}
